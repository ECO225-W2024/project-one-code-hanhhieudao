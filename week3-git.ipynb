{
 "cells": [
  {
   "cell_type": "code",
   "execution_count": 4,
   "id": "09b08b0f",
   "metadata": {},
   "outputs": [
    {
     "name": "stdout",
     "output_type": "stream",
     "text": [
      "                bed          bath         price\n",
      "count  1.184538e+06  1.206853e+06  1.400958e+06\n",
      "mean   3.392347e+00  2.487426e+00  8.186029e+05\n",
      "std    2.051858e+00  1.873599e+00  2.683069e+06\n",
      "min    1.000000e+00  1.000000e+00  0.000000e+00\n",
      "25%    2.000000e+00  2.000000e+00  2.350000e+05\n"
     ]
    }
   ],
   "source": [
    "import pandas as pd\n",
    "\n",
    "df = pd.read_csv('realtor-data.zip.csv') \n",
    "\n",
    "independent_variables = ['bed', 'bath']\n",
    "dependent_variable = 'price'\n",
    "\n",
    "selected_columns = independent_variables + [dependent_variable]\n",
    "subset_df = df[selected_columns]\n",
    "\n",
    "summary_statistics = subset_df.describe()\n",
    "print(summary_statistics.head())"
   ]
  }
 ],
 "metadata": {
  "kernelspec": {
   "display_name": "Python 3 (ipykernel)",
   "language": "python",
   "name": "python3"
  },
  "language_info": {
   "codemirror_mode": {
    "name": "ipython",
    "version": 3
   },
   "file_extension": ".py",
   "mimetype": "text/x-python",
   "name": "python",
   "nbconvert_exporter": "python",
   "pygments_lexer": "ipython3",
   "version": "3.11.6"
  }
 },
 "nbformat": 4,
 "nbformat_minor": 5
}
